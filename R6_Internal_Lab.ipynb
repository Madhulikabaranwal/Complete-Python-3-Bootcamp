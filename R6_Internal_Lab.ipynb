{
  "nbformat": 4,
  "nbformat_minor": 0,
  "metadata": {
    "colab": {
      "name": "R6_Internal_Lab.ipynb",
      "provenance": [],
      "collapsed_sections": [],
      "include_colab_link": true
    },
    "kernelspec": {
      "name": "python3",
      "display_name": "Python 3"
    }
  },
  "cells": [
    {
      "cell_type": "markdown",
      "metadata": {
        "id": "view-in-github",
        "colab_type": "text"
      },
      "source": [
        "<a href=\"https://colab.research.google.com/github/Madhulikabaranwal/Complete-Python-3-Bootcamp/blob/master/R6_Internal_Lab.ipynb\" target=\"_parent\"><img src=\"https://colab.research.google.com/assets/colab-badge.svg\" alt=\"Open In Colab\"/></a>"
      ]
    },
    {
      "cell_type": "markdown",
      "metadata": {
        "colab_type": "text",
        "id": "84Q8JfvaeZZ6"
      },
      "source": [
        "## Linear Classifier in TensorFlow \n",
        "Using Low Level API in Eager Execution mode"
      ]
    },
    {
      "cell_type": "markdown",
      "metadata": {
        "colab_type": "text",
        "id": "sb7Epo0VOB58"
      },
      "source": [
        "### Load tensorflow"
      ]
    },
    {
      "cell_type": "code",
      "metadata": {
        "colab_type": "code",
        "id": "fHpCNRv1OB5-",
        "colab": {}
      },
      "source": [
        "import tensorflow as tf"
      ],
      "execution_count": 0,
      "outputs": []
    },
    {
      "cell_type": "code",
      "metadata": {
        "id": "nr9IduDCBOmC",
        "colab_type": "code",
        "colab": {
          "base_uri": "https://localhost:8080/",
          "height": 34
        },
        "outputId": "32347533-c102-4524-8889-be6dd496261a"
      },
      "source": [
        "tf.enable_eager_execution"
      ],
      "execution_count": 38,
      "outputs": [
        {
          "output_type": "execute_result",
          "data": {
            "text/plain": [
              "<function tensorflow.python.framework.ops.enable_eager_execution>"
            ]
          },
          "metadata": {
            "tags": []
          },
          "execution_count": 38
        }
      ]
    },
    {
      "cell_type": "code",
      "metadata": {
        "colab_type": "code",
        "id": "Mjtb-EMcm5K0",
        "colab": {}
      },
      "source": [
        "#Enable Eager Execution if using tensflow version < 2.0\n",
        "#From tensorflow v2.0 onwards, Eager Execution will be enabled by default\n"
      ],
      "execution_count": 0,
      "outputs": []
    },
    {
      "cell_type": "markdown",
      "metadata": {
        "colab_type": "text",
        "id": "DxJDmJqqOB6K"
      },
      "source": [
        "### Collect Data"
      ]
    },
    {
      "cell_type": "code",
      "metadata": {
        "colab_type": "code",
        "id": "FhllFLyKOB6N",
        "colab": {
          "base_uri": "https://localhost:8080/",
          "height": 34
        },
        "outputId": "40cf0d79-efe6-4d3f-e9f4-0bb35644b150"
      },
      "source": [
        "from google.colab import drive\n",
        "drive.mount('/gdrive')"
      ],
      "execution_count": 39,
      "outputs": [
        {
          "output_type": "stream",
          "text": [
            "Drive already mounted at /gdrive; to attempt to forcibly remount, call drive.mount(\"/gdrive\", force_remount=True).\n"
          ],
          "name": "stdout"
        }
      ]
    },
    {
      "cell_type": "code",
      "metadata": {
        "colab_type": "code",
        "id": "KiObW4V4SIOz",
        "colab": {}
      },
      "source": [
        "import pandas as pd"
      ],
      "execution_count": 0,
      "outputs": []
    },
    {
      "cell_type": "code",
      "metadata": {
        "colab_type": "code",
        "id": "B4yQKMiJOB6R",
        "colab": {}
      },
      "source": [
        "data = pd.read_csv('/gdrive/My Drive/prices.csv')"
      ],
      "execution_count": 0,
      "outputs": []
    },
    {
      "cell_type": "code",
      "metadata": {
        "id": "6D1uMUaqi7Se",
        "colab_type": "code",
        "colab": {}
      },
      "source": [
        "from google.colab import drive\n"
      ],
      "execution_count": 0,
      "outputs": []
    },
    {
      "cell_type": "markdown",
      "metadata": {
        "colab_type": "text",
        "id": "fgkX6SEqOB6W"
      },
      "source": [
        "### Check all columns in the dataset"
      ]
    },
    {
      "cell_type": "code",
      "metadata": {
        "colab_type": "code",
        "id": "7K8pWsNQOB6X",
        "colab": {
          "base_uri": "https://localhost:8080/",
          "height": 221
        },
        "outputId": "76d0ae75-31fd-4a60-cf32-556380366080"
      },
      "source": [
        "data.info()"
      ],
      "execution_count": 43,
      "outputs": [
        {
          "output_type": "stream",
          "text": [
            "<class 'pandas.core.frame.DataFrame'>\n",
            "RangeIndex: 851264 entries, 0 to 851263\n",
            "Data columns (total 7 columns):\n",
            "date      851264 non-null object\n",
            "symbol    851264 non-null object\n",
            "open      851264 non-null float64\n",
            "close     851264 non-null float64\n",
            "low       851264 non-null float64\n",
            "high      851264 non-null float64\n",
            "volume    851264 non-null float64\n",
            "dtypes: float64(5), object(2)\n",
            "memory usage: 45.5+ MB\n"
          ],
          "name": "stdout"
        }
      ]
    },
    {
      "cell_type": "code",
      "metadata": {
        "id": "orLXFvxFcd0X",
        "colab_type": "code",
        "colab": {
          "base_uri": "https://localhost:8080/",
          "height": 34
        },
        "outputId": "3620c030-b59a-403e-aa09-901d3de1960f"
      },
      "source": [
        "data.shape"
      ],
      "execution_count": 44,
      "outputs": [
        {
          "output_type": "execute_result",
          "data": {
            "text/plain": [
              "(851264, 7)"
            ]
          },
          "metadata": {
            "tags": []
          },
          "execution_count": 44
        }
      ]
    },
    {
      "cell_type": "markdown",
      "metadata": {
        "colab_type": "text",
        "id": "7dU6X7MpOB6c"
      },
      "source": [
        "### Drop columns `date` and  `symbol`"
      ]
    },
    {
      "cell_type": "code",
      "metadata": {
        "colab_type": "code",
        "id": "lh_6spSKOB6e",
        "colab": {}
      },
      "source": [
        "d=data.drop('date',axis=1)\n",
        "f=d.drop('symbol',axis=1)"
      ],
      "execution_count": 0,
      "outputs": []
    },
    {
      "cell_type": "code",
      "metadata": {
        "colab_type": "code",
        "id": "xlwbUgTwOB6i",
        "outputId": "3dbac5c5-ae6b-42a4-e1cf-ef2d672ee178",
        "colab": {
          "base_uri": "https://localhost:8080/",
          "height": 204
        }
      },
      "source": [
        "f.head()"
      ],
      "execution_count": 46,
      "outputs": [
        {
          "output_type": "execute_result",
          "data": {
            "text/html": [
              "<div>\n",
              "<style scoped>\n",
              "    .dataframe tbody tr th:only-of-type {\n",
              "        vertical-align: middle;\n",
              "    }\n",
              "\n",
              "    .dataframe tbody tr th {\n",
              "        vertical-align: top;\n",
              "    }\n",
              "\n",
              "    .dataframe thead th {\n",
              "        text-align: right;\n",
              "    }\n",
              "</style>\n",
              "<table border=\"1\" class=\"dataframe\">\n",
              "  <thead>\n",
              "    <tr style=\"text-align: right;\">\n",
              "      <th></th>\n",
              "      <th>open</th>\n",
              "      <th>close</th>\n",
              "      <th>low</th>\n",
              "      <th>high</th>\n",
              "      <th>volume</th>\n",
              "    </tr>\n",
              "  </thead>\n",
              "  <tbody>\n",
              "    <tr>\n",
              "      <th>0</th>\n",
              "      <td>123.430000</td>\n",
              "      <td>125.839996</td>\n",
              "      <td>122.309998</td>\n",
              "      <td>126.250000</td>\n",
              "      <td>2163600.0</td>\n",
              "    </tr>\n",
              "    <tr>\n",
              "      <th>1</th>\n",
              "      <td>125.239998</td>\n",
              "      <td>119.980003</td>\n",
              "      <td>119.940002</td>\n",
              "      <td>125.540001</td>\n",
              "      <td>2386400.0</td>\n",
              "    </tr>\n",
              "    <tr>\n",
              "      <th>2</th>\n",
              "      <td>116.379997</td>\n",
              "      <td>114.949997</td>\n",
              "      <td>114.930000</td>\n",
              "      <td>119.739998</td>\n",
              "      <td>2489500.0</td>\n",
              "    </tr>\n",
              "    <tr>\n",
              "      <th>3</th>\n",
              "      <td>115.480003</td>\n",
              "      <td>116.620003</td>\n",
              "      <td>113.500000</td>\n",
              "      <td>117.440002</td>\n",
              "      <td>2006300.0</td>\n",
              "    </tr>\n",
              "    <tr>\n",
              "      <th>4</th>\n",
              "      <td>117.010002</td>\n",
              "      <td>114.970001</td>\n",
              "      <td>114.089996</td>\n",
              "      <td>117.330002</td>\n",
              "      <td>1408600.0</td>\n",
              "    </tr>\n",
              "  </tbody>\n",
              "</table>\n",
              "</div>"
            ],
            "text/plain": [
              "         open       close         low        high     volume\n",
              "0  123.430000  125.839996  122.309998  126.250000  2163600.0\n",
              "1  125.239998  119.980003  119.940002  125.540001  2386400.0\n",
              "2  116.379997  114.949997  114.930000  119.739998  2489500.0\n",
              "3  115.480003  116.620003  113.500000  117.440002  2006300.0\n",
              "4  117.010002  114.970001  114.089996  117.330002  1408600.0"
            ]
          },
          "metadata": {
            "tags": []
          },
          "execution_count": 46
        }
      ]
    },
    {
      "cell_type": "markdown",
      "metadata": {
        "colab_type": "text",
        "id": "3DBv3WWYOB6q"
      },
      "source": [
        "### Consider only first 1000 rows in the dataset for building feature set and target set\n",
        "Target 'Volume' has very high values. Divide 'Volume' by 1000,000"
      ]
    },
    {
      "cell_type": "code",
      "metadata": {
        "colab_type": "code",
        "id": "Z_hG9rGBOB6s",
        "colab": {
          "base_uri": "https://localhost:8080/",
          "height": 419
        },
        "outputId": "b97a3316-5cd9-4b50-f059-12d5d9624a41"
      },
      "source": [
        "A=f.head(1000)\n",
        "A"
      ],
      "execution_count": 47,
      "outputs": [
        {
          "output_type": "execute_result",
          "data": {
            "text/html": [
              "<div>\n",
              "<style scoped>\n",
              "    .dataframe tbody tr th:only-of-type {\n",
              "        vertical-align: middle;\n",
              "    }\n",
              "\n",
              "    .dataframe tbody tr th {\n",
              "        vertical-align: top;\n",
              "    }\n",
              "\n",
              "    .dataframe thead th {\n",
              "        text-align: right;\n",
              "    }\n",
              "</style>\n",
              "<table border=\"1\" class=\"dataframe\">\n",
              "  <thead>\n",
              "    <tr style=\"text-align: right;\">\n",
              "      <th></th>\n",
              "      <th>open</th>\n",
              "      <th>close</th>\n",
              "      <th>low</th>\n",
              "      <th>high</th>\n",
              "      <th>volume</th>\n",
              "    </tr>\n",
              "  </thead>\n",
              "  <tbody>\n",
              "    <tr>\n",
              "      <th>0</th>\n",
              "      <td>123.430000</td>\n",
              "      <td>125.839996</td>\n",
              "      <td>122.309998</td>\n",
              "      <td>126.250000</td>\n",
              "      <td>2163600.0</td>\n",
              "    </tr>\n",
              "    <tr>\n",
              "      <th>1</th>\n",
              "      <td>125.239998</td>\n",
              "      <td>119.980003</td>\n",
              "      <td>119.940002</td>\n",
              "      <td>125.540001</td>\n",
              "      <td>2386400.0</td>\n",
              "    </tr>\n",
              "    <tr>\n",
              "      <th>2</th>\n",
              "      <td>116.379997</td>\n",
              "      <td>114.949997</td>\n",
              "      <td>114.930000</td>\n",
              "      <td>119.739998</td>\n",
              "      <td>2489500.0</td>\n",
              "    </tr>\n",
              "    <tr>\n",
              "      <th>3</th>\n",
              "      <td>115.480003</td>\n",
              "      <td>116.620003</td>\n",
              "      <td>113.500000</td>\n",
              "      <td>117.440002</td>\n",
              "      <td>2006300.0</td>\n",
              "    </tr>\n",
              "    <tr>\n",
              "      <th>4</th>\n",
              "      <td>117.010002</td>\n",
              "      <td>114.970001</td>\n",
              "      <td>114.089996</td>\n",
              "      <td>117.330002</td>\n",
              "      <td>1408600.0</td>\n",
              "    </tr>\n",
              "    <tr>\n",
              "      <th>...</th>\n",
              "      <td>...</td>\n",
              "      <td>...</td>\n",
              "      <td>...</td>\n",
              "      <td>...</td>\n",
              "      <td>...</td>\n",
              "    </tr>\n",
              "    <tr>\n",
              "      <th>995</th>\n",
              "      <td>63.310001</td>\n",
              "      <td>63.590000</td>\n",
              "      <td>63.240002</td>\n",
              "      <td>63.639999</td>\n",
              "      <td>2133200.0</td>\n",
              "    </tr>\n",
              "    <tr>\n",
              "      <th>996</th>\n",
              "      <td>27.160000</td>\n",
              "      <td>26.990000</td>\n",
              "      <td>26.680000</td>\n",
              "      <td>27.299999</td>\n",
              "      <td>1982400.0</td>\n",
              "    </tr>\n",
              "    <tr>\n",
              "      <th>997</th>\n",
              "      <td>28.320000</td>\n",
              "      <td>28.770000</td>\n",
              "      <td>28.010000</td>\n",
              "      <td>28.809999</td>\n",
              "      <td>37152800.0</td>\n",
              "    </tr>\n",
              "    <tr>\n",
              "      <th>998</th>\n",
              "      <td>44.000000</td>\n",
              "      <td>44.799999</td>\n",
              "      <td>43.750000</td>\n",
              "      <td>44.810001</td>\n",
              "      <td>6568600.0</td>\n",
              "    </tr>\n",
              "    <tr>\n",
              "      <th>999</th>\n",
              "      <td>36.080002</td>\n",
              "      <td>37.139999</td>\n",
              "      <td>36.009998</td>\n",
              "      <td>37.230000</td>\n",
              "      <td>5604300.0</td>\n",
              "    </tr>\n",
              "  </tbody>\n",
              "</table>\n",
              "<p>1000 rows × 5 columns</p>\n",
              "</div>"
            ],
            "text/plain": [
              "           open       close         low        high      volume\n",
              "0    123.430000  125.839996  122.309998  126.250000   2163600.0\n",
              "1    125.239998  119.980003  119.940002  125.540001   2386400.0\n",
              "2    116.379997  114.949997  114.930000  119.739998   2489500.0\n",
              "3    115.480003  116.620003  113.500000  117.440002   2006300.0\n",
              "4    117.010002  114.970001  114.089996  117.330002   1408600.0\n",
              "..          ...         ...         ...         ...         ...\n",
              "995   63.310001   63.590000   63.240002   63.639999   2133200.0\n",
              "996   27.160000   26.990000   26.680000   27.299999   1982400.0\n",
              "997   28.320000   28.770000   28.010000   28.809999  37152800.0\n",
              "998   44.000000   44.799999   43.750000   44.810001   6568600.0\n",
              "999   36.080002   37.139999   36.009998   37.230000   5604300.0\n",
              "\n",
              "[1000 rows x 5 columns]"
            ]
          },
          "metadata": {
            "tags": []
          },
          "execution_count": 47
        }
      ]
    },
    {
      "cell_type": "code",
      "metadata": {
        "id": "xfMIcMOv8Tx1",
        "colab_type": "code",
        "colab": {
          "base_uri": "https://localhost:8080/",
          "height": 139
        },
        "outputId": "7d9c660b-f8bb-423a-fcdd-7ff3bf699a50"
      },
      "source": [
        "A['volume']=A['volume']/1000000"
      ],
      "execution_count": 48,
      "outputs": [
        {
          "output_type": "stream",
          "text": [
            "/usr/local/lib/python3.6/dist-packages/ipykernel_launcher.py:1: SettingWithCopyWarning: \n",
            "A value is trying to be set on a copy of a slice from a DataFrame.\n",
            "Try using .loc[row_indexer,col_indexer] = value instead\n",
            "\n",
            "See the caveats in the documentation: http://pandas.pydata.org/pandas-docs/stable/user_guide/indexing.html#returning-a-view-versus-a-copy\n",
            "  \"\"\"Entry point for launching an IPython kernel.\n"
          ],
          "name": "stderr"
        }
      ]
    },
    {
      "cell_type": "code",
      "metadata": {
        "id": "3OEI2wMThJZC",
        "colab_type": "code",
        "colab": {}
      },
      "source": [
        "X=A.drop('volume',axis=1)\n",
        "y=A[['volume']]"
      ],
      "execution_count": 0,
      "outputs": []
    },
    {
      "cell_type": "markdown",
      "metadata": {
        "colab_type": "text",
        "id": "M3UaApqYOB6x"
      },
      "source": [
        "### Divide the data into train and test sets"
      ]
    },
    {
      "cell_type": "code",
      "metadata": {
        "colab_type": "code",
        "id": "4LE4U8lTdQJq",
        "colab": {}
      },
      "source": [
        "from sklearn.model_selection import train_test_split\n",
        "X_train, X_test, y_train, y_test = train_test_split(X, y, test_size=0.30, random_state=1)\n",
        "\n"
      ],
      "execution_count": 0,
      "outputs": []
    },
    {
      "cell_type": "markdown",
      "metadata": {
        "colab_type": "text",
        "id": "oYK-aUuLbrz2"
      },
      "source": [
        "#### Convert Training and Test Data to numpy float32 arrays\n"
      ]
    },
    {
      "cell_type": "code",
      "metadata": {
        "colab_type": "code",
        "id": "Ao-S0tQGcncz",
        "colab": {}
      },
      "source": [
        "import numpy as np\n",
        "\n",
        "X_train = np.array(X_train).astype('float32')\n",
        "X_test = np.array(X_test).astype('float32')\n",
        "y_train = np.array(y_train).astype('float32')\n",
        "y_test = np.array(y_test).astype('float32')"
      ],
      "execution_count": 0,
      "outputs": []
    },
    {
      "cell_type": "markdown",
      "metadata": {
        "colab_type": "text",
        "id": "im1ZegbDdKgv"
      },
      "source": [
        "### Normalize the data\n",
        "You can use Normalizer from sklearn.preprocessing"
      ]
    },
    {
      "cell_type": "code",
      "metadata": {
        "colab_type": "code",
        "id": "2EkKAy7fOB6y",
        "colab": {}
      },
      "source": [
        "from sklearn.preprocessing import Normalizer\n",
        "transformer = Normalizer()\n",
        "X_train = transformer.fit_transform(X_train)\n",
        "X_test = transformer.transform(X_test)\n",
        "\n",
        "\n"
      ],
      "execution_count": 0,
      "outputs": []
    },
    {
      "cell_type": "code",
      "metadata": {
        "id": "LmPI0F1Qm21k",
        "colab_type": "code",
        "colab": {}
      },
      "source": [
        ""
      ],
      "execution_count": 0,
      "outputs": []
    },
    {
      "cell_type": "markdown",
      "metadata": {
        "colab_type": "text",
        "id": "v6vE4eYCOB62"
      },
      "source": [
        "## Building the Model in tensorflow"
      ]
    },
    {
      "cell_type": "markdown",
      "metadata": {
        "colab_type": "text",
        "id": "297_qja4OB7A"
      },
      "source": [
        "1.Define Weights and Bias, use tf.zeros to initialize weights and Bias"
      ]
    },
    {
      "cell_type": "code",
      "metadata": {
        "colab_type": "code",
        "id": "L205qPeQOB7B",
        "colab": {}
      },
      "source": [
        "#We are initializing weights and Bias with Zero\n",
        "w = tf.zeros(shape=(4,1))\n",
        "b = tf.zeros(shape=(1))"
      ],
      "execution_count": 0,
      "outputs": []
    },
    {
      "cell_type": "markdown",
      "metadata": {
        "colab_type": "text",
        "id": "HgtWA-UIOB7F"
      },
      "source": [
        "2.Define a function to calculate prediction"
      ]
    },
    {
      "cell_type": "code",
      "metadata": {
        "colab_type": "code",
        "id": "JveGlx25OB7H",
        "colab": {}
      },
      "source": [
        "def prediction(x, w, b):\n",
        "    \n",
        "    xw_matmul = tf.matmul(x, w)\n",
        "    y = tf.add(xw_matmul, b)\n",
        "    \n",
        "    return y"
      ],
      "execution_count": 0,
      "outputs": []
    },
    {
      "cell_type": "markdown",
      "metadata": {
        "colab_type": "text",
        "id": "TL1hIwf_OB7M"
      },
      "source": [
        "3.Loss (Cost) Function [Mean square error]"
      ]
    },
    {
      "cell_type": "code",
      "metadata": {
        "colab_type": "code",
        "id": "8VSWPiGXOB7P",
        "colab": {}
      },
      "source": [
        "def loss(y_actual, y_predicted):\n",
        "    \n",
        "    diff = y_actual - y_predicted\n",
        "    sqr = tf.square(diff)\n",
        "    avg = tf.reduce_mean(sqr)\n",
        "    \n",
        "    return avg"
      ],
      "execution_count": 0,
      "outputs": []
    },
    {
      "cell_type": "markdown",
      "metadata": {
        "colab_type": "text",
        "id": "jzG85FUlOB7U"
      },
      "source": [
        "4.Function to train the Model\n",
        "\n",
        "1.   Record all the mathematical steps to calculate Loss\n",
        "2.   Calculate Gradients of Loss w.r.t weights and bias\n",
        "3.   Update Weights and Bias based on gradients and learning rate to minimize loss"
      ]
    },
    {
      "cell_type": "code",
      "metadata": {
        "colab_type": "code",
        "id": "cj802w-3OB7X",
        "colab": {}
      },
      "source": [
        "def train(x, y_actual, w, b, learning_rate=0.01):\n",
        "    \n",
        "    #Record mathematical operations on 'tape' to calculate loss\n",
        "    with tf.GradientTape() as t:\n",
        "        \n",
        "        t.watch([w,b])\n",
        "        \n",
        "        current_prediction = prediction(x, w, b)\n",
        "        current_loss = loss(y_actual, current_prediction)\n",
        "    \n",
        "    #Calculate Gradients for Loss with respect to Weights and Bias\n",
        "    dw, db = t.gradient(current_loss,[w, b])\n",
        "    \n",
        "    #Update Weights and Bias\n",
        "    w = w - learning_rate*dw\n",
        "    b = b - learning_rate*db\n",
        "    \n",
        "    return w, b"
      ],
      "execution_count": 0,
      "outputs": []
    },
    {
      "cell_type": "markdown",
      "metadata": {
        "colab_type": "text",
        "id": "xSypb_u8OB7e"
      },
      "source": [
        "## Train the model for 100 epochs \n",
        "1. Observe the training loss at every iteration\n",
        "2. Observe Train loss at every 5th iteration"
      ]
    },
    {
      "cell_type": "code",
      "metadata": {
        "colab_type": "code",
        "id": "DVvgj7eQOB7f",
        "colab": {
          "base_uri": "https://localhost:8080/",
          "height": 1000
        },
        "outputId": "6adc1f9e-05ea-4a5f-cbab-6076b07eb8c2"
      },
      "source": [
        "for i in range(100):\n",
        "    \n",
        "    w, b = train(X_train, y_train, w, b)\n",
        "    print('Current Loss on iteration', i, loss(y_train, prediction(X_train, w, b)))"
      ],
      "execution_count": 61,
      "outputs": [
        {
          "output_type": "stream",
          "text": [
            "Current Loss on iteration 0 Tensor(\"Mean_1:0\", shape=(), dtype=float32)\n",
            "Current Loss on iteration 1 Tensor(\"Mean_3:0\", shape=(), dtype=float32)\n",
            "Current Loss on iteration 2 Tensor(\"Mean_5:0\", shape=(), dtype=float32)\n",
            "Current Loss on iteration 3 Tensor(\"Mean_7:0\", shape=(), dtype=float32)\n",
            "Current Loss on iteration 4 Tensor(\"Mean_9:0\", shape=(), dtype=float32)\n",
            "Current Loss on iteration 5 Tensor(\"Mean_11:0\", shape=(), dtype=float32)\n",
            "Current Loss on iteration 6 Tensor(\"Mean_13:0\", shape=(), dtype=float32)\n",
            "Current Loss on iteration 7 Tensor(\"Mean_15:0\", shape=(), dtype=float32)\n",
            "Current Loss on iteration 8 Tensor(\"Mean_17:0\", shape=(), dtype=float32)\n",
            "Current Loss on iteration 9 Tensor(\"Mean_19:0\", shape=(), dtype=float32)\n",
            "Current Loss on iteration 10 Tensor(\"Mean_21:0\", shape=(), dtype=float32)\n",
            "Current Loss on iteration 11 Tensor(\"Mean_23:0\", shape=(), dtype=float32)\n",
            "Current Loss on iteration 12 Tensor(\"Mean_25:0\", shape=(), dtype=float32)\n",
            "Current Loss on iteration 13 Tensor(\"Mean_27:0\", shape=(), dtype=float32)\n",
            "Current Loss on iteration 14 Tensor(\"Mean_29:0\", shape=(), dtype=float32)\n",
            "Current Loss on iteration 15 Tensor(\"Mean_31:0\", shape=(), dtype=float32)\n",
            "Current Loss on iteration 16 Tensor(\"Mean_33:0\", shape=(), dtype=float32)\n",
            "Current Loss on iteration 17 Tensor(\"Mean_35:0\", shape=(), dtype=float32)\n",
            "Current Loss on iteration 18 Tensor(\"Mean_37:0\", shape=(), dtype=float32)\n",
            "Current Loss on iteration 19 Tensor(\"Mean_39:0\", shape=(), dtype=float32)\n",
            "Current Loss on iteration 20 Tensor(\"Mean_41:0\", shape=(), dtype=float32)\n",
            "Current Loss on iteration 21 Tensor(\"Mean_43:0\", shape=(), dtype=float32)\n",
            "Current Loss on iteration 22 Tensor(\"Mean_45:0\", shape=(), dtype=float32)\n",
            "Current Loss on iteration 23 Tensor(\"Mean_47:0\", shape=(), dtype=float32)\n",
            "Current Loss on iteration 24 Tensor(\"Mean_49:0\", shape=(), dtype=float32)\n",
            "Current Loss on iteration 25 Tensor(\"Mean_51:0\", shape=(), dtype=float32)\n",
            "Current Loss on iteration 26 Tensor(\"Mean_53:0\", shape=(), dtype=float32)\n",
            "Current Loss on iteration 27 Tensor(\"Mean_55:0\", shape=(), dtype=float32)\n",
            "Current Loss on iteration 28 Tensor(\"Mean_57:0\", shape=(), dtype=float32)\n",
            "Current Loss on iteration 29 Tensor(\"Mean_59:0\", shape=(), dtype=float32)\n",
            "Current Loss on iteration 30 Tensor(\"Mean_61:0\", shape=(), dtype=float32)\n",
            "Current Loss on iteration 31 Tensor(\"Mean_63:0\", shape=(), dtype=float32)\n",
            "Current Loss on iteration 32 Tensor(\"Mean_65:0\", shape=(), dtype=float32)\n",
            "Current Loss on iteration 33 Tensor(\"Mean_67:0\", shape=(), dtype=float32)\n",
            "Current Loss on iteration 34 Tensor(\"Mean_69:0\", shape=(), dtype=float32)\n",
            "Current Loss on iteration 35 Tensor(\"Mean_71:0\", shape=(), dtype=float32)\n",
            "Current Loss on iteration 36 Tensor(\"Mean_73:0\", shape=(), dtype=float32)\n",
            "Current Loss on iteration 37 Tensor(\"Mean_75:0\", shape=(), dtype=float32)\n",
            "Current Loss on iteration 38 Tensor(\"Mean_77:0\", shape=(), dtype=float32)\n",
            "Current Loss on iteration 39 Tensor(\"Mean_79:0\", shape=(), dtype=float32)\n",
            "Current Loss on iteration 40 Tensor(\"Mean_81:0\", shape=(), dtype=float32)\n",
            "Current Loss on iteration 41 Tensor(\"Mean_83:0\", shape=(), dtype=float32)\n",
            "Current Loss on iteration 42 Tensor(\"Mean_85:0\", shape=(), dtype=float32)\n",
            "Current Loss on iteration 43 Tensor(\"Mean_87:0\", shape=(), dtype=float32)\n",
            "Current Loss on iteration 44 Tensor(\"Mean_89:0\", shape=(), dtype=float32)\n",
            "Current Loss on iteration 45 Tensor(\"Mean_91:0\", shape=(), dtype=float32)\n",
            "Current Loss on iteration 46 Tensor(\"Mean_93:0\", shape=(), dtype=float32)\n",
            "Current Loss on iteration 47 Tensor(\"Mean_95:0\", shape=(), dtype=float32)\n",
            "Current Loss on iteration 48 Tensor(\"Mean_97:0\", shape=(), dtype=float32)\n",
            "Current Loss on iteration 49 Tensor(\"Mean_99:0\", shape=(), dtype=float32)\n",
            "Current Loss on iteration 50 Tensor(\"Mean_101:0\", shape=(), dtype=float32)\n",
            "Current Loss on iteration 51 Tensor(\"Mean_103:0\", shape=(), dtype=float32)\n",
            "Current Loss on iteration 52 Tensor(\"Mean_105:0\", shape=(), dtype=float32)\n",
            "Current Loss on iteration 53 Tensor(\"Mean_107:0\", shape=(), dtype=float32)\n",
            "Current Loss on iteration 54 Tensor(\"Mean_109:0\", shape=(), dtype=float32)\n",
            "Current Loss on iteration 55 Tensor(\"Mean_111:0\", shape=(), dtype=float32)\n",
            "Current Loss on iteration 56 Tensor(\"Mean_113:0\", shape=(), dtype=float32)\n",
            "Current Loss on iteration 57 Tensor(\"Mean_115:0\", shape=(), dtype=float32)\n",
            "Current Loss on iteration 58 Tensor(\"Mean_117:0\", shape=(), dtype=float32)\n",
            "Current Loss on iteration 59 Tensor(\"Mean_119:0\", shape=(), dtype=float32)\n",
            "Current Loss on iteration 60 Tensor(\"Mean_121:0\", shape=(), dtype=float32)\n",
            "Current Loss on iteration 61 Tensor(\"Mean_123:0\", shape=(), dtype=float32)\n",
            "Current Loss on iteration 62 Tensor(\"Mean_125:0\", shape=(), dtype=float32)\n",
            "Current Loss on iteration 63 Tensor(\"Mean_127:0\", shape=(), dtype=float32)\n",
            "Current Loss on iteration 64 Tensor(\"Mean_129:0\", shape=(), dtype=float32)\n",
            "Current Loss on iteration 65 Tensor(\"Mean_131:0\", shape=(), dtype=float32)\n",
            "Current Loss on iteration 66 Tensor(\"Mean_133:0\", shape=(), dtype=float32)\n",
            "Current Loss on iteration 67 Tensor(\"Mean_135:0\", shape=(), dtype=float32)\n",
            "Current Loss on iteration 68 Tensor(\"Mean_137:0\", shape=(), dtype=float32)\n",
            "Current Loss on iteration 69 Tensor(\"Mean_139:0\", shape=(), dtype=float32)\n",
            "Current Loss on iteration 70 Tensor(\"Mean_141:0\", shape=(), dtype=float32)\n",
            "Current Loss on iteration 71 Tensor(\"Mean_143:0\", shape=(), dtype=float32)\n",
            "Current Loss on iteration 72 Tensor(\"Mean_145:0\", shape=(), dtype=float32)\n",
            "Current Loss on iteration 73 Tensor(\"Mean_147:0\", shape=(), dtype=float32)\n",
            "Current Loss on iteration 74 Tensor(\"Mean_149:0\", shape=(), dtype=float32)\n",
            "Current Loss on iteration 75 Tensor(\"Mean_151:0\", shape=(), dtype=float32)\n",
            "Current Loss on iteration 76 Tensor(\"Mean_153:0\", shape=(), dtype=float32)\n",
            "Current Loss on iteration 77 Tensor(\"Mean_155:0\", shape=(), dtype=float32)\n",
            "Current Loss on iteration 78 Tensor(\"Mean_157:0\", shape=(), dtype=float32)\n",
            "Current Loss on iteration 79 Tensor(\"Mean_159:0\", shape=(), dtype=float32)\n",
            "Current Loss on iteration 80 Tensor(\"Mean_161:0\", shape=(), dtype=float32)\n",
            "Current Loss on iteration 81 Tensor(\"Mean_163:0\", shape=(), dtype=float32)\n",
            "Current Loss on iteration 82 Tensor(\"Mean_165:0\", shape=(), dtype=float32)\n",
            "Current Loss on iteration 83 Tensor(\"Mean_167:0\", shape=(), dtype=float32)\n",
            "Current Loss on iteration 84 Tensor(\"Mean_169:0\", shape=(), dtype=float32)\n",
            "Current Loss on iteration 85 Tensor(\"Mean_171:0\", shape=(), dtype=float32)\n",
            "Current Loss on iteration 86 Tensor(\"Mean_173:0\", shape=(), dtype=float32)\n",
            "Current Loss on iteration 87 Tensor(\"Mean_175:0\", shape=(), dtype=float32)\n",
            "Current Loss on iteration 88 Tensor(\"Mean_177:0\", shape=(), dtype=float32)\n",
            "Current Loss on iteration 89 Tensor(\"Mean_179:0\", shape=(), dtype=float32)\n",
            "Current Loss on iteration 90 Tensor(\"Mean_181:0\", shape=(), dtype=float32)\n",
            "Current Loss on iteration 91 Tensor(\"Mean_183:0\", shape=(), dtype=float32)\n",
            "Current Loss on iteration 92 Tensor(\"Mean_185:0\", shape=(), dtype=float32)\n",
            "Current Loss on iteration 93 Tensor(\"Mean_187:0\", shape=(), dtype=float32)\n",
            "Current Loss on iteration 94 Tensor(\"Mean_189:0\", shape=(), dtype=float32)\n",
            "Current Loss on iteration 95 Tensor(\"Mean_191:0\", shape=(), dtype=float32)\n",
            "Current Loss on iteration 96 Tensor(\"Mean_193:0\", shape=(), dtype=float32)\n",
            "Current Loss on iteration 97 Tensor(\"Mean_195:0\", shape=(), dtype=float32)\n",
            "Current Loss on iteration 98 Tensor(\"Mean_197:0\", shape=(), dtype=float32)\n",
            "Current Loss on iteration 99 Tensor(\"Mean_199:0\", shape=(), dtype=float32)\n"
          ],
          "name": "stdout"
        }
      ]
    },
    {
      "cell_type": "code",
      "metadata": {
        "id": "YNCsZwDaCXX7",
        "colab_type": "code",
        "colab": {}
      },
      "source": [
        ""
      ],
      "execution_count": 0,
      "outputs": []
    },
    {
      "cell_type": "markdown",
      "metadata": {
        "colab_type": "text",
        "id": "DOL2ncA1OB7q"
      },
      "source": [
        "### Get the shapes and values of W and b"
      ]
    },
    {
      "cell_type": "code",
      "metadata": {
        "colab_type": "code",
        "id": "ZGvtyTeuOB7r",
        "colab": {
          "base_uri": "https://localhost:8080/",
          "height": 85
        },
        "outputId": "fc7c1161-e4bd-44f7-dd9e-608d46d01830"
      },
      "source": [
        "#Check Weights and Bias\n",
        "print('Weights:\\n', w)\n",
        "print('Bias:\\n',b)"
      ],
      "execution_count": 62,
      "outputs": [
        {
          "output_type": "stream",
          "text": [
            "Weights:\n",
            " Tensor(\"sub_397:0\", shape=(4, 1), dtype=float32)\n",
            "Bias:\n",
            " Tensor(\"sub_398:0\", shape=(1,), dtype=float32)\n"
          ],
          "name": "stdout"
        }
      ]
    },
    {
      "cell_type": "markdown",
      "metadata": {
        "colab_type": "text",
        "id": "ERq9GOKKciho"
      },
      "source": [
        "### Model Prediction on 1st Examples in Test Dataset"
      ]
    },
    {
      "cell_type": "code",
      "metadata": {
        "colab_type": "code",
        "id": "gKGvUWahcihp",
        "colab": {}
      },
      "source": [
        "def prediction(X_test, w, b):\n",
        "    \n",
        "    xw_matmul = tf.matmul(X_test, w)\n",
        "    y = tf.add(xw_matmul, b)\n",
        "    \n",
        "    return y\n"
      ],
      "execution_count": 0,
      "outputs": []
    },
    {
      "cell_type": "code",
      "metadata": {
        "id": "01ybshVk18Ze",
        "colab_type": "code",
        "colab": {}
      },
      "source": [
        "with tf.Session() as sess:\n",
        "  val_2=(prediction(X_test, w, b).eval())"
      ],
      "execution_count": 0,
      "outputs": []
    },
    {
      "cell_type": "code",
      "metadata": {
        "id": "byu356-q75TH",
        "colab_type": "code",
        "colab": {
          "base_uri": "https://localhost:8080/",
          "height": 34
        },
        "outputId": "0b5e8088-a07b-4aeb-bbcb-fb13d9dcd56b"
      },
      "source": [
        "val_2[0]"
      ],
      "execution_count": 67,
      "outputs": [
        {
          "output_type": "execute_result",
          "data": {
            "text/plain": [
              "array([5.4272947], dtype=float32)"
            ]
          },
          "metadata": {
            "tags": []
          },
          "execution_count": 67
        }
      ]
    },
    {
      "cell_type": "markdown",
      "metadata": {
        "colab_type": "text",
        "id": "YJRBuqXhOB7_"
      },
      "source": [
        "## Classification using tf.Keras\n",
        "\n",
        "In this exercise, we will build a Deep Neural Network using tf.Keras. We will use Iris Dataset for this exercise."
      ]
    },
    {
      "cell_type": "markdown",
      "metadata": {
        "colab_type": "text",
        "id": "O0g6lorycihf"
      },
      "source": [
        "### Load the given Iris data using pandas (Iris.csv)"
      ]
    },
    {
      "cell_type": "code",
      "metadata": {
        "colab_type": "code",
        "id": "6xFvb5sRcihg",
        "colab": {}
      },
      "source": [
        "data1 = pd.read_csv('/gdrive/My Drive/Iris (2).csv')"
      ],
      "execution_count": 0,
      "outputs": []
    },
    {
      "cell_type": "markdown",
      "metadata": {
        "colab_type": "text",
        "id": "SAB--Qdwcihm"
      },
      "source": [
        "### Target set has different categories. So, Label encode them. And convert into one-hot vectors using get_dummies in pandas."
      ]
    },
    {
      "cell_type": "code",
      "metadata": {
        "id": "xJVrpQkRGSZT",
        "colab_type": "code",
        "colab": {
          "base_uri": "https://localhost:8080/",
          "height": 419
        },
        "outputId": "cdd37d00-69fb-4acf-9716-6ea36774063f"
      },
      "source": [
        "pd.get_dummies(data1['Species'])"
      ],
      "execution_count": 74,
      "outputs": [
        {
          "output_type": "execute_result",
          "data": {
            "text/html": [
              "<div>\n",
              "<style scoped>\n",
              "    .dataframe tbody tr th:only-of-type {\n",
              "        vertical-align: middle;\n",
              "    }\n",
              "\n",
              "    .dataframe tbody tr th {\n",
              "        vertical-align: top;\n",
              "    }\n",
              "\n",
              "    .dataframe thead th {\n",
              "        text-align: right;\n",
              "    }\n",
              "</style>\n",
              "<table border=\"1\" class=\"dataframe\">\n",
              "  <thead>\n",
              "    <tr style=\"text-align: right;\">\n",
              "      <th></th>\n",
              "      <th>Iris-setosa</th>\n",
              "      <th>Iris-versicolor</th>\n",
              "      <th>Iris-virginica</th>\n",
              "    </tr>\n",
              "  </thead>\n",
              "  <tbody>\n",
              "    <tr>\n",
              "      <th>0</th>\n",
              "      <td>1</td>\n",
              "      <td>0</td>\n",
              "      <td>0</td>\n",
              "    </tr>\n",
              "    <tr>\n",
              "      <th>1</th>\n",
              "      <td>1</td>\n",
              "      <td>0</td>\n",
              "      <td>0</td>\n",
              "    </tr>\n",
              "    <tr>\n",
              "      <th>2</th>\n",
              "      <td>1</td>\n",
              "      <td>0</td>\n",
              "      <td>0</td>\n",
              "    </tr>\n",
              "    <tr>\n",
              "      <th>3</th>\n",
              "      <td>1</td>\n",
              "      <td>0</td>\n",
              "      <td>0</td>\n",
              "    </tr>\n",
              "    <tr>\n",
              "      <th>4</th>\n",
              "      <td>1</td>\n",
              "      <td>0</td>\n",
              "      <td>0</td>\n",
              "    </tr>\n",
              "    <tr>\n",
              "      <th>...</th>\n",
              "      <td>...</td>\n",
              "      <td>...</td>\n",
              "      <td>...</td>\n",
              "    </tr>\n",
              "    <tr>\n",
              "      <th>145</th>\n",
              "      <td>0</td>\n",
              "      <td>0</td>\n",
              "      <td>1</td>\n",
              "    </tr>\n",
              "    <tr>\n",
              "      <th>146</th>\n",
              "      <td>0</td>\n",
              "      <td>0</td>\n",
              "      <td>1</td>\n",
              "    </tr>\n",
              "    <tr>\n",
              "      <th>147</th>\n",
              "      <td>0</td>\n",
              "      <td>0</td>\n",
              "      <td>1</td>\n",
              "    </tr>\n",
              "    <tr>\n",
              "      <th>148</th>\n",
              "      <td>0</td>\n",
              "      <td>0</td>\n",
              "      <td>1</td>\n",
              "    </tr>\n",
              "    <tr>\n",
              "      <th>149</th>\n",
              "      <td>0</td>\n",
              "      <td>0</td>\n",
              "      <td>1</td>\n",
              "    </tr>\n",
              "  </tbody>\n",
              "</table>\n",
              "<p>150 rows × 3 columns</p>\n",
              "</div>"
            ],
            "text/plain": [
              "     Iris-setosa  Iris-versicolor  Iris-virginica\n",
              "0              1                0               0\n",
              "1              1                0               0\n",
              "2              1                0               0\n",
              "3              1                0               0\n",
              "4              1                0               0\n",
              "..           ...              ...             ...\n",
              "145            0                0               1\n",
              "146            0                0               1\n",
              "147            0                0               1\n",
              "148            0                0               1\n",
              "149            0                0               1\n",
              "\n",
              "[150 rows x 3 columns]"
            ]
          },
          "metadata": {
            "tags": []
          },
          "execution_count": 74
        }
      ]
    },
    {
      "cell_type": "code",
      "metadata": {
        "id": "P4OzFLTuKshM",
        "colab_type": "code",
        "colab": {}
      },
      "source": [
        "data1=pd.get_dummies(data1)"
      ],
      "execution_count": 0,
      "outputs": []
    },
    {
      "cell_type": "code",
      "metadata": {
        "id": "k4_ptpC7K0dQ",
        "colab_type": "code",
        "colab": {
          "base_uri": "https://localhost:8080/",
          "height": 436
        },
        "outputId": "f7598eb9-866f-4dd4-9526-5e4dec50788f"
      },
      "source": [
        "data1"
      ],
      "execution_count": 81,
      "outputs": [
        {
          "output_type": "execute_result",
          "data": {
            "text/html": [
              "<div>\n",
              "<style scoped>\n",
              "    .dataframe tbody tr th:only-of-type {\n",
              "        vertical-align: middle;\n",
              "    }\n",
              "\n",
              "    .dataframe tbody tr th {\n",
              "        vertical-align: top;\n",
              "    }\n",
              "\n",
              "    .dataframe thead th {\n",
              "        text-align: right;\n",
              "    }\n",
              "</style>\n",
              "<table border=\"1\" class=\"dataframe\">\n",
              "  <thead>\n",
              "    <tr style=\"text-align: right;\">\n",
              "      <th></th>\n",
              "      <th>Id</th>\n",
              "      <th>SepalLengthCm</th>\n",
              "      <th>SepalWidthCm</th>\n",
              "      <th>PetalLengthCm</th>\n",
              "      <th>PetalWidthCm</th>\n",
              "      <th>Species_Iris-setosa</th>\n",
              "      <th>Species_Iris-versicolor</th>\n",
              "      <th>Species_Iris-virginica</th>\n",
              "    </tr>\n",
              "  </thead>\n",
              "  <tbody>\n",
              "    <tr>\n",
              "      <th>0</th>\n",
              "      <td>1</td>\n",
              "      <td>5.1</td>\n",
              "      <td>3.5</td>\n",
              "      <td>1.4</td>\n",
              "      <td>0.2</td>\n",
              "      <td>1</td>\n",
              "      <td>0</td>\n",
              "      <td>0</td>\n",
              "    </tr>\n",
              "    <tr>\n",
              "      <th>1</th>\n",
              "      <td>2</td>\n",
              "      <td>4.9</td>\n",
              "      <td>3.0</td>\n",
              "      <td>1.4</td>\n",
              "      <td>0.2</td>\n",
              "      <td>1</td>\n",
              "      <td>0</td>\n",
              "      <td>0</td>\n",
              "    </tr>\n",
              "    <tr>\n",
              "      <th>2</th>\n",
              "      <td>3</td>\n",
              "      <td>4.7</td>\n",
              "      <td>3.2</td>\n",
              "      <td>1.3</td>\n",
              "      <td>0.2</td>\n",
              "      <td>1</td>\n",
              "      <td>0</td>\n",
              "      <td>0</td>\n",
              "    </tr>\n",
              "    <tr>\n",
              "      <th>3</th>\n",
              "      <td>4</td>\n",
              "      <td>4.6</td>\n",
              "      <td>3.1</td>\n",
              "      <td>1.5</td>\n",
              "      <td>0.2</td>\n",
              "      <td>1</td>\n",
              "      <td>0</td>\n",
              "      <td>0</td>\n",
              "    </tr>\n",
              "    <tr>\n",
              "      <th>4</th>\n",
              "      <td>5</td>\n",
              "      <td>5.0</td>\n",
              "      <td>3.6</td>\n",
              "      <td>1.4</td>\n",
              "      <td>0.2</td>\n",
              "      <td>1</td>\n",
              "      <td>0</td>\n",
              "      <td>0</td>\n",
              "    </tr>\n",
              "    <tr>\n",
              "      <th>...</th>\n",
              "      <td>...</td>\n",
              "      <td>...</td>\n",
              "      <td>...</td>\n",
              "      <td>...</td>\n",
              "      <td>...</td>\n",
              "      <td>...</td>\n",
              "      <td>...</td>\n",
              "      <td>...</td>\n",
              "    </tr>\n",
              "    <tr>\n",
              "      <th>145</th>\n",
              "      <td>146</td>\n",
              "      <td>6.7</td>\n",
              "      <td>3.0</td>\n",
              "      <td>5.2</td>\n",
              "      <td>2.3</td>\n",
              "      <td>0</td>\n",
              "      <td>0</td>\n",
              "      <td>1</td>\n",
              "    </tr>\n",
              "    <tr>\n",
              "      <th>146</th>\n",
              "      <td>147</td>\n",
              "      <td>6.3</td>\n",
              "      <td>2.5</td>\n",
              "      <td>5.0</td>\n",
              "      <td>1.9</td>\n",
              "      <td>0</td>\n",
              "      <td>0</td>\n",
              "      <td>1</td>\n",
              "    </tr>\n",
              "    <tr>\n",
              "      <th>147</th>\n",
              "      <td>148</td>\n",
              "      <td>6.5</td>\n",
              "      <td>3.0</td>\n",
              "      <td>5.2</td>\n",
              "      <td>2.0</td>\n",
              "      <td>0</td>\n",
              "      <td>0</td>\n",
              "      <td>1</td>\n",
              "    </tr>\n",
              "    <tr>\n",
              "      <th>148</th>\n",
              "      <td>149</td>\n",
              "      <td>6.2</td>\n",
              "      <td>3.4</td>\n",
              "      <td>5.4</td>\n",
              "      <td>2.3</td>\n",
              "      <td>0</td>\n",
              "      <td>0</td>\n",
              "      <td>1</td>\n",
              "    </tr>\n",
              "    <tr>\n",
              "      <th>149</th>\n",
              "      <td>150</td>\n",
              "      <td>5.9</td>\n",
              "      <td>3.0</td>\n",
              "      <td>5.1</td>\n",
              "      <td>1.8</td>\n",
              "      <td>0</td>\n",
              "      <td>0</td>\n",
              "      <td>1</td>\n",
              "    </tr>\n",
              "  </tbody>\n",
              "</table>\n",
              "<p>150 rows × 8 columns</p>\n",
              "</div>"
            ],
            "text/plain": [
              "      Id  SepalLengthCm  ...  Species_Iris-versicolor  Species_Iris-virginica\n",
              "0      1            5.1  ...                        0                       0\n",
              "1      2            4.9  ...                        0                       0\n",
              "2      3            4.7  ...                        0                       0\n",
              "3      4            4.6  ...                        0                       0\n",
              "4      5            5.0  ...                        0                       0\n",
              "..   ...            ...  ...                      ...                     ...\n",
              "145  146            6.7  ...                        0                       1\n",
              "146  147            6.3  ...                        0                       1\n",
              "147  148            6.5  ...                        0                       1\n",
              "148  149            6.2  ...                        0                       1\n",
              "149  150            5.9  ...                        0                       1\n",
              "\n",
              "[150 rows x 8 columns]"
            ]
          },
          "metadata": {
            "tags": []
          },
          "execution_count": 81
        }
      ]
    },
    {
      "cell_type": "markdown",
      "metadata": {
        "colab_type": "text",
        "id": "D95nY5ILcihj"
      },
      "source": [
        "### Splitting the data into feature set and target set"
      ]
    },
    {
      "cell_type": "code",
      "metadata": {
        "id": "WhhXvRYrIhiE",
        "colab_type": "code",
        "colab": {}
      },
      "source": [
        "X2 = data1.drop(columns=['Id', 'Species_Iris-setosa', 'Species_Iris-versicolor', 'Species_Iris-virginica'], axis=1)\n",
        "Y2 = data1[['Species_Iris-setosa', 'Species_Iris-versicolor', 'Species_Iris-virginica']]"
      ],
      "execution_count": 0,
      "outputs": []
    },
    {
      "cell_type": "code",
      "metadata": {
        "id": "_YYebnRVLM_2",
        "colab_type": "code",
        "colab": {}
      },
      "source": [
        "X2_train, X2_test, Y2_train, Y2_test = train_test_split(X2, Y2, test_size=0.30, random_state=55)\n",
        "X2_train_array = X2_train.values\n",
        "Y2_train_array = Y2_train.values\n",
        "X2_test_array = X2_test.values\n",
        "Y2_test_array = Y2_test.values"
      ],
      "execution_count": 0,
      "outputs": []
    },
    {
      "cell_type": "markdown",
      "metadata": {
        "colab_type": "text",
        "id": "b22qpC5xcihr"
      },
      "source": [
        "###  Building Model in tf.keras\n",
        "\n",
        "Build a Linear Classifier model  <br>\n",
        "1.  Use Dense Layer  with input shape of 4 (according to the feature set) and number of outputs set to 3<br> \n",
        "2. Apply Softmax on Dense Layer outputs <br>\n",
        "3. Use SGD as Optimizer\n",
        "4. Use categorical_crossentropy as loss function "
      ]
    },
    {
      "cell_type": "code",
      "metadata": {
        "colab_type": "code",
        "id": "Hov_UFnUciht",
        "colab": {}
      },
      "source": [
        "#Initialize Sequential model\n",
        "model = tf.keras.models.Sequential()\n",
        "\n",
        "model.add(tf.keras.layers.Dense(4,activation='sigmoid'))\n",
        "\n",
        "#Add Dense Layer which provides 10 Outputs after applying softmax\n",
        "model.add(tf.keras.layers.Dense(3, activation='softmax'))\n",
        "\n",
        "#Compile the model\n",
        "model.compile(optimizer='sgd', loss='categorical_crossentropy', metrics=['accuracy'])"
      ],
      "execution_count": 0,
      "outputs": []
    },
    {
      "cell_type": "markdown",
      "metadata": {
        "colab_type": "text",
        "id": "T5FdzqIKcihw"
      },
      "source": [
        "### Model Training "
      ]
    },
    {
      "cell_type": "code",
      "metadata": {
        "colab_type": "code",
        "id": "4qLEdHPscihx",
        "colab": {
          "base_uri": "https://localhost:8080/",
          "height": 1000
        },
        "outputId": "a5b171d0-d348-47f6-a1cd-62fbda819294"
      },
      "source": [
        "model.fit(X2_train_array, Y2_train_array, \n",
        "          validation_data=(X2_test_array,Y2_test_array), \n",
        "          epochs=100)"
      ],
      "execution_count": 88,
      "outputs": [
        {
          "output_type": "stream",
          "text": [
            "WARNING:tensorflow:From /usr/local/lib/python3.6/dist-packages/tensorflow_core/python/ops/resource_variable_ops.py:1630: calling BaseResourceVariable.__init__ (from tensorflow.python.ops.resource_variable_ops) with constraint is deprecated and will be removed in a future version.\n",
            "Instructions for updating:\n",
            "If using Keras pass *_constraint arguments to layers.\n",
            "Train on 105 samples, validate on 45 samples\n",
            "Epoch 1/100\n",
            "105/105 [==============================] - 0s 4ms/sample - loss: 1.5662 - acc: 0.3238 - val_loss: 1.4703 - val_acc: 0.3556\n",
            "Epoch 2/100\n",
            "105/105 [==============================] - 0s 134us/sample - loss: 1.5162 - acc: 0.3238 - val_loss: 1.4282 - val_acc: 0.3556\n",
            "Epoch 3/100\n",
            "105/105 [==============================] - 0s 114us/sample - loss: 1.4718 - acc: 0.3238 - val_loss: 1.3898 - val_acc: 0.3556\n",
            "Epoch 4/100\n",
            "105/105 [==============================] - 0s 111us/sample - loss: 1.4313 - acc: 0.3238 - val_loss: 1.3565 - val_acc: 0.3556\n",
            "Epoch 5/100\n",
            "105/105 [==============================] - 0s 104us/sample - loss: 1.3958 - acc: 0.3238 - val_loss: 1.3247 - val_acc: 0.3556\n",
            "Epoch 6/100\n",
            "105/105 [==============================] - 0s 101us/sample - loss: 1.3618 - acc: 0.3238 - val_loss: 1.2959 - val_acc: 0.3556\n",
            "Epoch 7/100\n",
            "105/105 [==============================] - 0s 100us/sample - loss: 1.3315 - acc: 0.3238 - val_loss: 1.2725 - val_acc: 0.3556\n",
            "Epoch 8/100\n",
            "105/105 [==============================] - 0s 131us/sample - loss: 1.3062 - acc: 0.3238 - val_loss: 1.2500 - val_acc: 0.3556\n",
            "Epoch 9/100\n",
            "105/105 [==============================] - 0s 101us/sample - loss: 1.2823 - acc: 0.3238 - val_loss: 1.2310 - val_acc: 0.3556\n",
            "Epoch 10/100\n",
            "105/105 [==============================] - 0s 96us/sample - loss: 1.2616 - acc: 0.3238 - val_loss: 1.2127 - val_acc: 0.3556\n",
            "Epoch 11/100\n",
            "105/105 [==============================] - 0s 91us/sample - loss: 1.2418 - acc: 0.3238 - val_loss: 1.1973 - val_acc: 0.3556\n",
            "Epoch 12/100\n",
            "105/105 [==============================] - 0s 96us/sample - loss: 1.2254 - acc: 0.3238 - val_loss: 1.1803 - val_acc: 0.3556\n",
            "Epoch 13/100\n",
            "105/105 [==============================] - 0s 86us/sample - loss: 1.2065 - acc: 0.3238 - val_loss: 1.1678 - val_acc: 0.3556\n",
            "Epoch 14/100\n",
            "105/105 [==============================] - 0s 97us/sample - loss: 1.1930 - acc: 0.3238 - val_loss: 1.1576 - val_acc: 0.3556\n",
            "Epoch 15/100\n",
            "105/105 [==============================] - 0s 95us/sample - loss: 1.1812 - acc: 0.3238 - val_loss: 1.1460 - val_acc: 0.3556\n",
            "Epoch 16/100\n",
            "105/105 [==============================] - 0s 100us/sample - loss: 1.1680 - acc: 0.3238 - val_loss: 1.1352 - val_acc: 0.3556\n",
            "Epoch 17/100\n",
            "105/105 [==============================] - 0s 103us/sample - loss: 1.1559 - acc: 0.3238 - val_loss: 1.1257 - val_acc: 0.3556\n",
            "Epoch 18/100\n",
            "105/105 [==============================] - 0s 105us/sample - loss: 1.1453 - acc: 0.3238 - val_loss: 1.1179 - val_acc: 0.3556\n",
            "Epoch 19/100\n",
            "105/105 [==============================] - 0s 105us/sample - loss: 1.1362 - acc: 0.3238 - val_loss: 1.1105 - val_acc: 0.3556\n",
            "Epoch 20/100\n",
            "105/105 [==============================] - 0s 102us/sample - loss: 1.1276 - acc: 0.3238 - val_loss: 1.1026 - val_acc: 0.3556\n",
            "Epoch 21/100\n",
            "105/105 [==============================] - 0s 104us/sample - loss: 1.1189 - acc: 0.3238 - val_loss: 1.0957 - val_acc: 0.3556\n",
            "Epoch 22/100\n",
            "105/105 [==============================] - 0s 139us/sample - loss: 1.1110 - acc: 0.3238 - val_loss: 1.0909 - val_acc: 0.3556\n",
            "Epoch 23/100\n",
            "105/105 [==============================] - 0s 158us/sample - loss: 1.1050 - acc: 0.3238 - val_loss: 1.0854 - val_acc: 0.3556\n",
            "Epoch 24/100\n",
            "105/105 [==============================] - 0s 87us/sample - loss: 1.0987 - acc: 0.3238 - val_loss: 1.0812 - val_acc: 0.3556\n",
            "Epoch 25/100\n",
            "105/105 [==============================] - 0s 118us/sample - loss: 1.0936 - acc: 0.3238 - val_loss: 1.0776 - val_acc: 0.3556\n",
            "Epoch 26/100\n",
            "105/105 [==============================] - 0s 116us/sample - loss: 1.0894 - acc: 0.3238 - val_loss: 1.0735 - val_acc: 0.3556\n",
            "Epoch 27/100\n",
            "105/105 [==============================] - 0s 124us/sample - loss: 1.0850 - acc: 0.3238 - val_loss: 1.0704 - val_acc: 0.3556\n",
            "Epoch 28/100\n",
            "105/105 [==============================] - 0s 109us/sample - loss: 1.0811 - acc: 0.3238 - val_loss: 1.0680 - val_acc: 0.3556\n",
            "Epoch 29/100\n",
            "105/105 [==============================] - 0s 82us/sample - loss: 1.0781 - acc: 0.3238 - val_loss: 1.0646 - val_acc: 0.3556\n",
            "Epoch 30/100\n",
            "105/105 [==============================] - 0s 90us/sample - loss: 1.0742 - acc: 0.3238 - val_loss: 1.0614 - val_acc: 0.3556\n",
            "Epoch 31/100\n",
            "105/105 [==============================] - 0s 93us/sample - loss: 1.0705 - acc: 0.3238 - val_loss: 1.0594 - val_acc: 0.3556\n",
            "Epoch 32/100\n",
            "105/105 [==============================] - 0s 93us/sample - loss: 1.0677 - acc: 0.3238 - val_loss: 1.0569 - val_acc: 0.3556\n",
            "Epoch 33/100\n",
            "105/105 [==============================] - 0s 107us/sample - loss: 1.0655 - acc: 0.3238 - val_loss: 1.0536 - val_acc: 0.3556\n",
            "Epoch 34/100\n",
            "105/105 [==============================] - 0s 111us/sample - loss: 1.0613 - acc: 0.3238 - val_loss: 1.0521 - val_acc: 0.3556\n",
            "Epoch 35/100\n",
            "105/105 [==============================] - 0s 110us/sample - loss: 1.0594 - acc: 0.3238 - val_loss: 1.0503 - val_acc: 0.3778\n",
            "Epoch 36/100\n",
            "105/105 [==============================] - 0s 111us/sample - loss: 1.0572 - acc: 0.3238 - val_loss: 1.0480 - val_acc: 0.4000\n",
            "Epoch 37/100\n",
            "105/105 [==============================] - 0s 98us/sample - loss: 1.0541 - acc: 0.3238 - val_loss: 1.0459 - val_acc: 0.4222\n",
            "Epoch 38/100\n",
            "105/105 [==============================] - 0s 111us/sample - loss: 1.0516 - acc: 0.3333 - val_loss: 1.0436 - val_acc: 0.4444\n",
            "Epoch 39/100\n",
            "105/105 [==============================] - 0s 122us/sample - loss: 1.0493 - acc: 0.3429 - val_loss: 1.0422 - val_acc: 0.4889\n",
            "Epoch 40/100\n",
            "105/105 [==============================] - 0s 123us/sample - loss: 1.0476 - acc: 0.3429 - val_loss: 1.0403 - val_acc: 0.4889\n",
            "Epoch 41/100\n",
            "105/105 [==============================] - 0s 105us/sample - loss: 1.0452 - acc: 0.4000 - val_loss: 1.0388 - val_acc: 0.4889\n",
            "Epoch 42/100\n",
            "105/105 [==============================] - 0s 106us/sample - loss: 1.0436 - acc: 0.4286 - val_loss: 1.0368 - val_acc: 0.4889\n",
            "Epoch 43/100\n",
            "105/105 [==============================] - 0s 108us/sample - loss: 1.0413 - acc: 0.4571 - val_loss: 1.0353 - val_acc: 0.5111\n",
            "Epoch 44/100\n",
            "105/105 [==============================] - 0s 103us/sample - loss: 1.0399 - acc: 0.4571 - val_loss: 1.0338 - val_acc: 0.5333\n",
            "Epoch 45/100\n",
            "105/105 [==============================] - 0s 104us/sample - loss: 1.0380 - acc: 0.4762 - val_loss: 1.0324 - val_acc: 0.5333\n",
            "Epoch 46/100\n",
            "105/105 [==============================] - 0s 105us/sample - loss: 1.0366 - acc: 0.5048 - val_loss: 1.0308 - val_acc: 0.5333\n",
            "Epoch 47/100\n",
            "105/105 [==============================] - 0s 110us/sample - loss: 1.0352 - acc: 0.4857 - val_loss: 1.0297 - val_acc: 0.5111\n",
            "Epoch 48/100\n",
            "105/105 [==============================] - 0s 109us/sample - loss: 1.0332 - acc: 0.5619 - val_loss: 1.0281 - val_acc: 0.5556\n",
            "Epoch 49/100\n",
            "105/105 [==============================] - 0s 101us/sample - loss: 1.0314 - acc: 0.6095 - val_loss: 1.0263 - val_acc: 0.5333\n",
            "Epoch 50/100\n",
            "105/105 [==============================] - 0s 101us/sample - loss: 1.0296 - acc: 0.6286 - val_loss: 1.0246 - val_acc: 0.5333\n",
            "Epoch 51/100\n",
            "105/105 [==============================] - 0s 104us/sample - loss: 1.0279 - acc: 0.6190 - val_loss: 1.0231 - val_acc: 0.5111\n",
            "Epoch 52/100\n",
            "105/105 [==============================] - 0s 107us/sample - loss: 1.0266 - acc: 0.6190 - val_loss: 1.0219 - val_acc: 0.5111\n",
            "Epoch 53/100\n",
            "105/105 [==============================] - 0s 113us/sample - loss: 1.0248 - acc: 0.6286 - val_loss: 1.0206 - val_acc: 0.5111\n",
            "Epoch 54/100\n",
            "105/105 [==============================] - 0s 111us/sample - loss: 1.0235 - acc: 0.6476 - val_loss: 1.0191 - val_acc: 0.5111\n",
            "Epoch 55/100\n",
            "105/105 [==============================] - 0s 92us/sample - loss: 1.0219 - acc: 0.6286 - val_loss: 1.0179 - val_acc: 0.5333\n",
            "Epoch 56/100\n",
            "105/105 [==============================] - 0s 89us/sample - loss: 1.0202 - acc: 0.6476 - val_loss: 1.0163 - val_acc: 0.5556\n",
            "Epoch 57/100\n",
            "105/105 [==============================] - 0s 90us/sample - loss: 1.0185 - acc: 0.6476 - val_loss: 1.0146 - val_acc: 0.5556\n",
            "Epoch 58/100\n",
            "105/105 [==============================] - 0s 104us/sample - loss: 1.0166 - acc: 0.6476 - val_loss: 1.0133 - val_acc: 0.5333\n",
            "Epoch 59/100\n",
            "105/105 [==============================] - 0s 88us/sample - loss: 1.0148 - acc: 0.6000 - val_loss: 1.0118 - val_acc: 0.5333\n",
            "Epoch 60/100\n",
            "105/105 [==============================] - 0s 84us/sample - loss: 1.0136 - acc: 0.6000 - val_loss: 1.0109 - val_acc: 0.5111\n",
            "Epoch 61/100\n",
            "105/105 [==============================] - 0s 97us/sample - loss: 1.0119 - acc: 0.5619 - val_loss: 1.0101 - val_acc: 0.5111\n",
            "Epoch 62/100\n",
            "105/105 [==============================] - 0s 102us/sample - loss: 1.0105 - acc: 0.5143 - val_loss: 1.0092 - val_acc: 0.4889\n",
            "Epoch 63/100\n",
            "105/105 [==============================] - 0s 99us/sample - loss: 1.0093 - acc: 0.5143 - val_loss: 1.0082 - val_acc: 0.4667\n",
            "Epoch 64/100\n",
            "105/105 [==============================] - 0s 99us/sample - loss: 1.0078 - acc: 0.5048 - val_loss: 1.0065 - val_acc: 0.4667\n",
            "Epoch 65/100\n",
            "105/105 [==============================] - 0s 104us/sample - loss: 1.0063 - acc: 0.5048 - val_loss: 1.0053 - val_acc: 0.4667\n",
            "Epoch 66/100\n",
            "105/105 [==============================] - 0s 111us/sample - loss: 1.0050 - acc: 0.5048 - val_loss: 1.0036 - val_acc: 0.4889\n",
            "Epoch 67/100\n",
            "105/105 [==============================] - 0s 103us/sample - loss: 1.0034 - acc: 0.5143 - val_loss: 1.0020 - val_acc: 0.4889\n",
            "Epoch 68/100\n",
            "105/105 [==============================] - 0s 102us/sample - loss: 1.0021 - acc: 0.5143 - val_loss: 1.0006 - val_acc: 0.4667\n",
            "Epoch 69/100\n",
            "105/105 [==============================] - 0s 94us/sample - loss: 1.0004 - acc: 0.5048 - val_loss: 0.9993 - val_acc: 0.4667\n",
            "Epoch 70/100\n",
            "105/105 [==============================] - 0s 94us/sample - loss: 0.9988 - acc: 0.5048 - val_loss: 0.9978 - val_acc: 0.4889\n",
            "Epoch 71/100\n",
            "105/105 [==============================] - 0s 94us/sample - loss: 0.9978 - acc: 0.5143 - val_loss: 0.9964 - val_acc: 0.4889\n",
            "Epoch 72/100\n",
            "105/105 [==============================] - 0s 92us/sample - loss: 0.9964 - acc: 0.5143 - val_loss: 0.9951 - val_acc: 0.4889\n",
            "Epoch 73/100\n",
            "105/105 [==============================] - 0s 94us/sample - loss: 0.9951 - acc: 0.5143 - val_loss: 0.9939 - val_acc: 0.4889\n",
            "Epoch 74/100\n",
            "105/105 [==============================] - 0s 102us/sample - loss: 0.9939 - acc: 0.5143 - val_loss: 0.9925 - val_acc: 0.4667\n",
            "Epoch 75/100\n",
            "105/105 [==============================] - 0s 106us/sample - loss: 0.9923 - acc: 0.5048 - val_loss: 0.9909 - val_acc: 0.5111\n",
            "Epoch 76/100\n",
            "105/105 [==============================] - 0s 104us/sample - loss: 0.9910 - acc: 0.5238 - val_loss: 0.9898 - val_acc: 0.4889\n",
            "Epoch 77/100\n",
            "105/105 [==============================] - 0s 108us/sample - loss: 0.9899 - acc: 0.5143 - val_loss: 0.9890 - val_acc: 0.5556\n",
            "Epoch 78/100\n",
            "105/105 [==============================] - 0s 109us/sample - loss: 0.9878 - acc: 0.5333 - val_loss: 0.9877 - val_acc: 0.6667\n",
            "Epoch 79/100\n",
            "105/105 [==============================] - 0s 106us/sample - loss: 0.9867 - acc: 0.6286 - val_loss: 0.9870 - val_acc: 0.6889\n",
            "Epoch 80/100\n",
            "105/105 [==============================] - 0s 106us/sample - loss: 0.9852 - acc: 0.7238 - val_loss: 0.9855 - val_acc: 0.7333\n",
            "Epoch 81/100\n",
            "105/105 [==============================] - 0s 127us/sample - loss: 0.9842 - acc: 0.7333 - val_loss: 0.9840 - val_acc: 0.7333\n",
            "Epoch 82/100\n",
            "105/105 [==============================] - 0s 109us/sample - loss: 0.9823 - acc: 0.7810 - val_loss: 0.9826 - val_acc: 0.7333\n",
            "Epoch 83/100\n",
            "105/105 [==============================] - 0s 109us/sample - loss: 0.9814 - acc: 0.8000 - val_loss: 0.9813 - val_acc: 0.7556\n",
            "Epoch 84/100\n",
            "105/105 [==============================] - 0s 102us/sample - loss: 0.9800 - acc: 0.7905 - val_loss: 0.9799 - val_acc: 0.7556\n",
            "Epoch 85/100\n",
            "105/105 [==============================] - 0s 106us/sample - loss: 0.9788 - acc: 0.8000 - val_loss: 0.9786 - val_acc: 0.7556\n",
            "Epoch 86/100\n",
            "105/105 [==============================] - 0s 95us/sample - loss: 0.9774 - acc: 0.8095 - val_loss: 0.9775 - val_acc: 0.7556\n",
            "Epoch 87/100\n",
            "105/105 [==============================] - 0s 89us/sample - loss: 0.9762 - acc: 0.8095 - val_loss: 0.9768 - val_acc: 0.7111\n",
            "Epoch 88/100\n",
            "105/105 [==============================] - 0s 161us/sample - loss: 0.9748 - acc: 0.7714 - val_loss: 0.9758 - val_acc: 0.7111\n",
            "Epoch 89/100\n",
            "105/105 [==============================] - 0s 112us/sample - loss: 0.9734 - acc: 0.7524 - val_loss: 0.9745 - val_acc: 0.7111\n",
            "Epoch 90/100\n",
            "105/105 [==============================] - 0s 124us/sample - loss: 0.9723 - acc: 0.7524 - val_loss: 0.9730 - val_acc: 0.7111\n",
            "Epoch 91/100\n",
            "105/105 [==============================] - 0s 112us/sample - loss: 0.9707 - acc: 0.7619 - val_loss: 0.9719 - val_acc: 0.7111\n",
            "Epoch 92/100\n",
            "105/105 [==============================] - 0s 153us/sample - loss: 0.9693 - acc: 0.7429 - val_loss: 0.9706 - val_acc: 0.7111\n",
            "Epoch 93/100\n",
            "105/105 [==============================] - 0s 97us/sample - loss: 0.9680 - acc: 0.7333 - val_loss: 0.9691 - val_acc: 0.7111\n",
            "Epoch 94/100\n",
            "105/105 [==============================] - 0s 90us/sample - loss: 0.9668 - acc: 0.7333 - val_loss: 0.9676 - val_acc: 0.7111\n",
            "Epoch 95/100\n",
            "105/105 [==============================] - 0s 92us/sample - loss: 0.9656 - acc: 0.7810 - val_loss: 0.9662 - val_acc: 0.7111\n",
            "Epoch 96/100\n",
            "105/105 [==============================] - 0s 107us/sample - loss: 0.9641 - acc: 0.7905 - val_loss: 0.9649 - val_acc: 0.7111\n",
            "Epoch 97/100\n",
            "105/105 [==============================] - 0s 97us/sample - loss: 0.9628 - acc: 0.7714 - val_loss: 0.9635 - val_acc: 0.7333\n",
            "Epoch 98/100\n",
            "105/105 [==============================] - 0s 95us/sample - loss: 0.9616 - acc: 0.7905 - val_loss: 0.9621 - val_acc: 0.7333\n",
            "Epoch 99/100\n",
            "105/105 [==============================] - 0s 104us/sample - loss: 0.9601 - acc: 0.8000 - val_loss: 0.9609 - val_acc: 0.7333\n",
            "Epoch 100/100\n",
            "105/105 [==============================] - 0s 102us/sample - loss: 0.9588 - acc: 0.8000 - val_loss: 0.9594 - val_acc: 0.7333\n"
          ],
          "name": "stdout"
        },
        {
          "output_type": "execute_result",
          "data": {
            "text/plain": [
              "<tensorflow.python.keras.callbacks.History at 0x7f43d983c550>"
            ]
          },
          "metadata": {
            "tags": []
          },
          "execution_count": 88
        }
      ]
    },
    {
      "cell_type": "markdown",
      "metadata": {
        "colab_type": "text",
        "id": "y-SgSSdRcih5"
      },
      "source": [
        "### Model Prediction"
      ]
    },
    {
      "cell_type": "code",
      "metadata": {
        "colab_type": "code",
        "id": "GBgKZkhkcih6",
        "colab": {
          "base_uri": "https://localhost:8080/",
          "height": 782
        },
        "outputId": "6ec9adaf-3d26-4859-cb85-de353cadd0c9"
      },
      "source": [
        "model.predict(X2_test_array)"
      ],
      "execution_count": 89,
      "outputs": [
        {
          "output_type": "execute_result",
          "data": {
            "text/plain": [
              "array([[0.40538815, 0.36303583, 0.23157594],\n",
              "       [0.419497  , 0.36965063, 0.21085232],\n",
              "       [0.3980898 , 0.3575214 , 0.24438877],\n",
              "       [0.2629319 , 0.32094604, 0.41612205],\n",
              "       [0.24998133, 0.31610286, 0.43391582],\n",
              "       [0.4078006 , 0.36303824, 0.22916108],\n",
              "       [0.25341076, 0.3175984 , 0.4289908 ],\n",
              "       [0.26394978, 0.32145157, 0.4145986 ],\n",
              "       [0.40533322, 0.36625546, 0.2284113 ],\n",
              "       [0.41097146, 0.3661166 , 0.222912  ],\n",
              "       [0.4110605 , 0.35774785, 0.23119162],\n",
              "       [0.2790411 , 0.3279181 , 0.39304078],\n",
              "       [0.24289466, 0.31109843, 0.4460069 ],\n",
              "       [0.40538815, 0.36303583, 0.23157594],\n",
              "       [0.25352383, 0.31853   , 0.42794624],\n",
              "       [0.26983142, 0.3253841 , 0.4047845 ],\n",
              "       [0.30566418, 0.3414015 , 0.35293433],\n",
              "       [0.40876704, 0.3637856 , 0.22744742],\n",
              "       [0.31496206, 0.34311768, 0.34192023],\n",
              "       [0.26355863, 0.32007906, 0.41636232],\n",
              "       [0.28219268, 0.331386  , 0.38642135],\n",
              "       [0.269333  , 0.32473823, 0.40592873],\n",
              "       [0.2746187 , 0.32476225, 0.400619  ],\n",
              "       [0.26673326, 0.32721528, 0.4060515 ],\n",
              "       [0.29981863, 0.34016198, 0.3600194 ],\n",
              "       [0.31687534, 0.34719703, 0.33592764],\n",
              "       [0.2521413 , 0.3161447 , 0.431714  ],\n",
              "       [0.30585232, 0.34095946, 0.3531882 ],\n",
              "       [0.2533531 , 0.31791317, 0.42873374],\n",
              "       [0.28836727, 0.33258328, 0.37904945],\n",
              "       [0.3942456 , 0.35892254, 0.24683188],\n",
              "       [0.4084232 , 0.36451384, 0.22706296],\n",
              "       [0.25089088, 0.31801298, 0.4310961 ],\n",
              "       [0.28046954, 0.33259797, 0.38693243],\n",
              "       [0.39763683, 0.36091408, 0.24144906],\n",
              "       [0.31586793, 0.3464012 , 0.3377308 ],\n",
              "       [0.29456803, 0.3333607 , 0.37207127],\n",
              "       [0.40615067, 0.36430508, 0.22954427],\n",
              "       [0.2808797 , 0.3327856 , 0.38633466],\n",
              "       [0.30992812, 0.34377027, 0.34630165],\n",
              "       [0.27219048, 0.3248487 , 0.40296075],\n",
              "       [0.39715976, 0.36079606, 0.24204423],\n",
              "       [0.30323702, 0.33956155, 0.3572015 ],\n",
              "       [0.4009674 , 0.35746628, 0.24156637],\n",
              "       [0.32369614, 0.34600386, 0.33030003]], dtype=float32)"
            ]
          },
          "metadata": {
            "tags": []
          },
          "execution_count": 89
        }
      ]
    },
    {
      "cell_type": "markdown",
      "metadata": {
        "colab_type": "text",
        "id": "P32ASP1Vjt0a"
      },
      "source": [
        "### Save the Model"
      ]
    },
    {
      "cell_type": "code",
      "metadata": {
        "colab_type": "code",
        "id": "n8rd0jjAjyTR",
        "colab": {}
      },
      "source": [
        "model.save('Iris.h5')"
      ],
      "execution_count": 0,
      "outputs": []
    },
    {
      "cell_type": "code",
      "metadata": {
        "id": "9t6e98IWLd9d",
        "colab_type": "code",
        "colab": {}
      },
      "source": [
        "sgd_optimizer = tf.keras.optimizers.SGD(lr=0.03)\n",
        "model.compile(optimizer=sgd_optimizer, loss='mse')"
      ],
      "execution_count": 0,
      "outputs": []
    },
    {
      "cell_type": "markdown",
      "metadata": {
        "colab_type": "text",
        "id": "XiipRpe7rbVh"
      },
      "source": [
        "### Build and Train a Deep Neural network with 2 hidden layer  - Optional - For Practice\n",
        "\n",
        "Does it perform better than Linear Classifier? What could be the reason for difference in performance?"
      ]
    },
    {
      "cell_type": "code",
      "metadata": {
        "colab_type": "code",
        "id": "v5Du3lubr4sA",
        "colab": {}
      },
      "source": [
        ""
      ],
      "execution_count": 0,
      "outputs": []
    }
  ]
}